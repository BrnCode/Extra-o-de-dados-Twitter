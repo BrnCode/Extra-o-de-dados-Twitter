{
  "nbformat": 4,
  "nbformat_minor": 0,
  "metadata": {
    "colab": {
      "name": "API Twitter.ipynb",
      "provenance": [],
      "collapsed_sections": [],
      "authorship_tag": "ABX9TyOeCbN2D6wnR+j1SK2ASlaa",
      "include_colab_link": true
    },
    "kernelspec": {
      "name": "python3",
      "display_name": "Python 3"
    },
    "language_info": {
      "name": "python"
    }
  },
  "cells": [
    {
      "cell_type": "markdown",
      "metadata": {
        "id": "view-in-github",
        "colab_type": "text"
      },
      "source": [
        "<a href=\"https://colab.research.google.com/github/BrnCode/Extra-o-de-dados-Twitter/blob/main/API_Twitter.ipynb\" target=\"_parent\"><img src=\"https://colab.research.google.com/assets/colab-badge.svg\" alt=\"Open In Colab\"/></a>"
      ]
    },
    {
      "cell_type": "markdown",
      "metadata": {
        "id": "-ecQTFwxqAyh"
      },
      "source": [
        "# Importar bibliotecas e definir constantes"
      ]
    },
    {
      "cell_type": "code",
      "metadata": {
        "id": "QcSfSzDLp3nq"
      },
      "source": [
        "### K: Documentação: https://docs.tweepy.org/en/stable/\n",
        "\n",
        "import tweepy\n",
        "import pandas as pd\n",
        "\n",
        "pd.set_option('display.width', 1000)\n",
        "pd.set_option('display.max_columns', None)"
      ],
      "execution_count": 2,
      "outputs": []
    },
    {
      "cell_type": "markdown",
      "metadata": {
        "id": "4nP5wPXXqJKg"
      },
      "source": [
        "# Configurar credenciais e instanciar objetos"
      ]
    },
    {
      "cell_type": "markdown",
      "metadata": {
        "id": "EPSQ9feQ9soh"
      },
      "source": [
        "https://developer.twitter.com/en/portal/dashboard onde gerei as keys e tokens"
      ]
    },
    {
      "cell_type": "code",
      "metadata": {
        "id": "a9zZtbqlp9Vk"
      },
      "source": [
        "consumer_key        = 'akEztXSplKPufVCagqSOR5SrX' #API Key\n",
        "consumer_secret     = 'SesmG1xU3OJf6pOfhqrw7BR7E24GDxIdfyfIswyLQSjR3pSNwK' # API Key Secret\n",
        "access_token        = '767852268658057217-YjpBXajlhyusmzJnpA2VeqzgaTSzrd1'\n",
        "access_token_secret = 'UxN1cg2ylfIpSAqfH4AcAcosWYl3QV5SxfuCmdWOqzXtU'\n",
        "\n",
        "auth = tweepy.OAuthHandler(consumer_key, consumer_secret) #Autenticador das informações\n",
        "auth.set_access_token(access_token, access_token_secret)  #Autenticador das informações\n",
        "api = tweepy.API(auth)\n",
        "\n",
        "### K: https://docs.tweepy.org/en/stable/api.html#api-reference"
      ],
      "execution_count": 3,
      "outputs": []
    },
    {
      "cell_type": "markdown",
      "metadata": {
        "id": "0jES5oEUucOa"
      },
      "source": [
        "# Obter tweets da forma mais simples"
      ]
    },
    {
      "cell_type": "code",
      "metadata": {
        "colab": {
          "base_uri": "https://localhost:8080/"
        },
        "id": "jAb8-RXJzwE0",
        "outputId": "b3fb1a1c-3f8f-44b0-c0e4-75c274781e7d"
      },
      "source": [
        "user_id = 'BarackObama'\n",
        "tweets = api.user_timeline(screen_name=user_id, \n",
        "                           count=10, ### K: Max 200.\n",
        "                           include_rts=False,\n",
        "                           tweet_mode='extended'\n",
        "                           )\n",
        "\n",
        "print ('Tweets do {}\\n'.format(user_id))\n",
        "for tweet in tweets[:5]:\n",
        "     print('ID: {}'.format(tweet.id))\n",
        "     print(tweet.created_at)\n",
        "     print(tweet.full_text, '\\n')"
      ],
      "execution_count": 4,
      "outputs": [
        {
          "output_type": "stream",
          "name": "stdout",
          "text": [
            "Tweets do BarackObama\n",
            "\n",
            "ID: 1465817526315716609\n",
            "2021-11-30 22:58:26\n",
            "Getting our kids fully vaccinated is the best way to protect them against COVID-19. Today, Dr. Fauci and I stopped by Kimball Elementary School to meet with families and kids getting their vaccines—and encourage more parents and kids to do the same. https://t.co/jhReaKJ7d9 \n",
            "\n",
            "ID: 1465689642146185219\n",
            "2021-11-30 14:30:16\n",
            "I’m always inspired by young leaders like Rachid Ennassiri, who is helping more people in Morocco get involved in the fight against climate change. This Giving Tuesday, join the @ObamaFoundation in supporting the work of changemakers like Rachid: https://t.co/EmEqSufrBP https://t.co/7DgoIGOFmg \n",
            "\n",
            "ID: 1465010274029785092\n",
            "2021-11-28 17:30:42\n",
            "From our family to yours, Happy Hanukkah and Chag Sameach! Over the next eight days, may we celebrate the many blessings in our own lives, and be reminded of the enduring power of hope. \n",
            "\n",
            "ID: 1464644791816400899\n",
            "2021-11-27 17:18:24\n",
            "Earlier this year, I had a chance to speak with Eric Williams, the owner of @TheSilverRoom in Hyde Park. This Small Business Saturday, take some time to support the hardworking small businesses in your city. They appreciate it more than you know. https://t.co/zFojC3muO3 \n",
            "\n",
            "ID: 1463881629861097483\n",
            "2021-11-25 14:45:52\n",
            "Happy Thanksgiving! Michelle and I send our warmest wishes to everyone celebrating today. We hope you have a wonderful and safe holiday with the people you love. https://t.co/hOYowIFveK \n",
            "\n"
          ]
        }
      ]
    },
    {
      "cell_type": "code",
      "metadata": {
        "colab": {
          "base_uri": "https://localhost:8080/"
        },
        "id": "HRbe0hhMuJxY",
        "outputId": "4538906b-173d-4b63-85e7-97a4f44b5fcf"
      },
      "source": [
        "user_id = 'ojudeuateu'\n",
        "tweets = api.user_timeline(screen_name=user_id, \n",
        "                           count=10, ### K: Max 200.\n",
        "                           include_rts=False,\n",
        "                           tweet_mode='extended' # Antigamente o tuiter tinha menos caracteres, para pegar \n",
        "                                                 # tuites maiores preciso colocar esse modo   \n",
        "                           )\n",
        "\n",
        "print ('Tweets do {}\\n'.format(user_id))\n",
        "for tweet in tweets[:5]:\n",
        "     print('ID: {}'.format(tweet.id))\n",
        "     print(tweet.created_at)\n",
        "     print(tweet.full_text, '\\n')"
      ],
      "execution_count": 5,
      "outputs": [
        {
          "output_type": "stream",
          "name": "stdout",
          "text": [
            "Tweets do ojudeuateu\n",
            "\n",
            "ID: 1465835185140912135\n",
            "2021-12-01 00:08:36\n",
            "Bom também que esse é mais um cliente, um lugar que faz evento mesmo, que não pedia de mim tinha uns 3 anos. Todo cliente que eu tinha tá voltando pro colo do homem aqui, maravilhoso demais. \n",
            "\n",
            "ID: 1465834825529573377\n",
            "2021-12-01 00:07:10\n",
            "Pior que pra essa Dezembro eu tava muito adiantando tudo que dava, na maior vibe de vai ser tranquilo, aí chegou esse pedido enorme e acho que nem vou parar de ter dia como hoje até o final do ano. É bom, mas fodeu por completo meu cronograma. \n",
            "\n",
            "ID: 1465810343767293957\n",
            "2021-11-30 22:29:54\n",
            "Definitivamente li essa sigla de outra forma pela primeira vez. https://t.co/InfbjEJ99n \n",
            "\n",
            "ID: 1465809953420197894\n",
            "2021-11-30 22:28:20\n",
            "De boa aqui fazendo 800 unidades de doce num dia só, juro se qualquer restaurante que eu vendo soubesse que é literalmente só eu, minha mãe e irmã trabalhando aqui, começariam a pagar o dobro só pelo choque. \n",
            "\n",
            "ID: 1465808610005499918\n",
            "2021-11-30 22:23:00\n",
            "@df_porto Não dou nem 5 dias pra primeira matéria de \"Doméstica infectada por omicron trabalhava para casal que voltou semana passada da Hungria\" \n",
            "\n"
          ]
        }
      ]
    },
    {
      "cell_type": "code",
      "metadata": {
        "colab": {
          "base_uri": "https://localhost:8080/"
        },
        "id": "oflgO3eOz-YK",
        "outputId": "c45b3368-94a9-4987-fe18-67198e6055c4"
      },
      "source": [
        "def retrieve_tweets_from_account(account):\n",
        "    cursor = tweepy.Cursor(api.user_timeline, id=account,\n",
        "                           tweet_mode='extended', include_rts=False).items(10)\n",
        "   \n",
        "    return pd.DataFrame([dict({'created_at':i.created_at,\n",
        "                               'tweet': i.full_text,\n",
        "                               'author': i.author.screen_name,\n",
        "                               'retweeted': i.retweeted,\n",
        "                               'source': i.source,\n",
        "                               'retweet_count': i.retweet_count,\n",
        "                               'favorite_count': i.favorite_count,\n",
        "                               'in_reply_to': i.in_reply_to_screen_name,\n",
        "                               'coordinates': i.coordinates\n",
        "                              }) for i in cursor])\n",
        "\n",
        "\n",
        "\n",
        "account_set = ['ojudeuateu', \n",
        "               'Izzombie',\n",
        "               'quadroembranco']\n",
        "\n",
        "df_tweets = pd.DataFrame()\n",
        "for account in account_set:\n",
        "    new_tweets = retrieve_tweets_from_account(account)\n",
        "    df_tweets = df_tweets.append(new_tweets, ignore_index=True)\n",
        "\n",
        "df_tweets.to_excel('tweets.xlsx')\n",
        "df_tweets.to_csv('tweets.csv', index=False)\n",
        "print(df_tweets[:10])"
      ],
      "execution_count": 9,
      "outputs": [
        {
          "output_type": "stream",
          "name": "stdout",
          "text": [
            "           created_at                                              tweet      author  retweeted               source  retweet_count  favorite_count     in_reply_to coordinates\n",
            "0 2021-12-01 00:08:36  Bom também que esse é mais um cliente, um luga...  ojudeuateu      False  Twitter for Android              0              25      ojudeuateu        None\n",
            "1 2021-12-01 00:07:10  Pior que pra essa Dezembro eu tava muito adian...  ojudeuateu      False  Twitter for Android              0              26            None        None\n",
            "2 2021-11-30 22:29:54  Definitivamente li essa sigla de outra forma p...  ojudeuateu      False  Twitter for Android              3              36            None        None\n",
            "3 2021-11-30 22:28:20  De boa aqui fazendo 800 unidades de doce num d...  ojudeuateu      False  Twitter for Android              0              37            None        None\n",
            "4 2021-11-30 22:23:00  @df_porto Não dou nem 5 dias pra primeira maté...  ojudeuateu      False  Twitter for Android              0               6        df_porto        None\n",
            "5 2021-11-30 20:39:52  Quem quer ficar apontando o dedo e se indignan...  ojudeuateu      False  Twitter for Android              1              28      ojudeuateu        None\n",
            "6 2021-11-30 20:37:19  Esse negócio dos caras deixarem os aeroportos ...  ojudeuateu      False  Twitter for Android             11             110            None        None\n",
            "7 2021-11-30 20:27:36                           @Lobo_paranoico De nada.  ojudeuateu      False  Twitter for Android              0               0  Lobo_paranoico        None\n",
            "8 2021-11-30 20:16:56  @Lobo_paranoico Tenta ficar um pouco da lado d...  ojudeuateu      False  Twitter for Android              0               0      ojudeuateu        None\n",
            "9 2021-11-30 20:15:43  @Lobo_paranoico 35 de Calorº e 90 de Frioº, pa...  ojudeuateu      False  Twitter for Android              0               7  Lobo_paranoico        None\n"
          ]
        }
      ]
    },
    {
      "cell_type": "code",
      "metadata": {
        "id": "nRX6knX0xY_B"
      },
      "source": [
        ""
      ],
      "execution_count": null,
      "outputs": []
    }
  ]
}